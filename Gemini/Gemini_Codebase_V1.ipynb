{
 "cells": [
  {
   "cell_type": "markdown",
   "metadata": {
    "id": "pPmcMNgZpo9V"
   },
   "source": [
    "# Analyse a codebase with the Gemini 1.5 Pro"
   ]
  },
  {
   "cell_type": "markdown",
   "metadata": {
    "id": "7yVV6txOmNMn"
   },
   "source": [
    "## Overview\n",
    "\n",
    "Gemini 1.5 Pro introduces a long context window of up to 2 million tokens that can help seamlessly analyse, classify and summarise large amounts of content within a given prompt. With its long-context reasoning, Gemini 1.5 Pro can analyse an entire codebase for deeper insights."
   ]
  },
  {
   "cell_type": "markdown",
   "metadata": {
    "id": "hdMGtr18rFdL"
   },
   "source": [
    "## Getting Started"
   ]
  },
  {
   "cell_type": "markdown",
   "metadata": {
    "id": "No17Cw5hgx12"
   },
   "source": [
    "### Install Vertex AI SDK for Python\n"
   ]
  },
  {
   "cell_type": "code",
   "execution_count": 1,
   "metadata": {
    "id": "tFy3H3aPgx12"
   },
   "outputs": [],
   "source": [
    "# ! pip3 install --upgrade --user --quiet google-cloud-aiplatform \\\n",
    "#                                         gitpython \\\n",
    "#                                         magika"
   ]
  },
  {
   "cell_type": "markdown",
   "metadata": {
    "id": "DF4l8DTdWgPY"
   },
   "source": [
    "### Set Google Cloud project information and initialize Vertex AI SDK\n",
    "\n",
    "To get started using Vertex AI, you must have an existing Google Cloud project and [enable the Vertex AI API](https://console.cloud.google.com/flows/enableapi?apiid=aiplatform.googleapis.com).\n",
    "\n",
    "Learn more about [setting up a project and a development environment](https://cloud.google.com/vertex-ai/docs/start/cloud-environment)."
   ]
  },
  {
   "cell_type": "code",
   "execution_count": 1,
   "metadata": {
    "id": "Nqwi-5ufWp_B"
   },
   "outputs": [],
   "source": [
    "PROJECT_ID = \"green-link-427820-a8\"  # @param {type:\"string\"}\n",
    "LOCATION = \"europe-west1\"  # @param {type:\"string\"}\n",
    "\n",
    "import vertexai\n",
    "\n",
    "vertexai.init(project=PROJECT_ID, location=LOCATION)"
   ]
  },
  {
   "cell_type": "markdown",
   "metadata": {
    "id": "vbozY-XKee95"
   },
   "source": [
    "### Import libraries"
   ]
  },
  {
   "cell_type": "code",
   "execution_count": 2,
   "metadata": {
    "id": "NSCFmvOWBas9"
   },
   "outputs": [],
   "source": [
    "import IPython.display\n",
    "from IPython.core.interactiveshell import InteractiveShell\n",
    "\n",
    "InteractiveShell.ast_node_interactivity = \"all\"\n",
    "\n",
    "from vertexai.generative_models import (\n",
    "    FunctionDeclaration,\n",
    "    GenerationConfig,\n",
    "    GenerativeModel,\n",
    "    Tool,\n",
    ")"
   ]
  },
  {
   "cell_type": "markdown",
   "metadata": {
    "id": "WNoOTMp2fe33"
   },
   "source": [
    "## Cloning a codebase\n",
    "\n",
    "You will use repo [hffix](https://github.com/jamesdbrock/hffix) is a C++ library for the Financial Information eXchange (FIX) protocol, designed for high-frequency, low-latency applications. It is header-only, meaning there is no library to link, and prioritizes speed and efficiency by avoiding memory allocation on the heap."
   ]
  },
  {
   "cell_type": "code",
   "execution_count": 8,
   "metadata": {
    "id": "GlDOs49qgStM"
   },
   "outputs": [],
   "source": [
    "# The GitHub repository URL\n",
    "repo_url = \"https://github.com/jamesdbrock/hffix\"\n",
    "repo_dir = \"./hffix\"\n",
    "# repo_dir = \"./hffix_BUGS/\""
   ]
  },
  {
   "cell_type": "markdown",
   "metadata": {
    "id": "PAm1ly9pfIEX"
   },
   "source": [
    "#### Define functions for cloning GitHub repository"
   ]
  },
  {
   "cell_type": "code",
   "execution_count": 9,
   "metadata": {
    "id": "stNia6UaHau2"
   },
   "outputs": [],
   "source": [
    "import os\n",
    "import shutil\n",
    "from pathlib import Path\n",
    "import requests\n",
    "import git\n",
    "import magika\n",
    "\n",
    "m = magika.Magika()\n",
    "\n",
    "\n",
    "def clone_repo(repo_url, repo_dir):\n",
    "    \"\"\"Clone a GitHub repository.\"\"\"\n",
    "\n",
    "    if os.path.exists(repo_dir):\n",
    "        shutil.rmtree(repo_dir)\n",
    "    os.makedirs(repo_dir)\n",
    "    git.Repo.clone_from(repo_url, repo_dir)\n",
    "\n",
    "\n",
    "def extract_code(repo_dir):\n",
    "    \"\"\"Create an index, extract content of code/text files.\"\"\"\n",
    "\n",
    "    code_index = []\n",
    "    code_text = \"\"\n",
    "    for root, _, files in os.walk(repo_dir):\n",
    "        for file in files:\n",
    "            file_path = os.path.join(root, file)\n",
    "            relative_path = os.path.relpath(file_path, repo_dir)\n",
    "            code_index.append(relative_path)\n",
    "\n",
    "            file_type = m.identify_path(Path(file_path))\n",
    "            if file_type.output.group in (\"text\", \"code\"):\n",
    "                try:\n",
    "                    with open(file_path, \"r\") as f:\n",
    "                        code_text += f\"----- File: {relative_path} -----\\n\"\n",
    "                        code_text += f.read()\n",
    "                        code_text += \"\\n-------------------------\\n\"\n",
    "                except Exception:\n",
    "                    pass\n",
    "\n",
    "    return code_index, code_text\n",
    "\n",
    "\n",
    "def get_github_issue(owner: str, repo: str, issue_number: str) -> str:\n",
    "    headers = {\n",
    "        \"Accept\": \"application/vnd.github+json\",\n",
    "        \"X-GitHub-Api-Version\": \"2022-11-28\",\n",
    "    }  # Set headers for GitHub API\n",
    "\n",
    "    # Construct API URL\n",
    "    url = f\"https://api.github.com/repos/{owner}/{repo}/issues/{issue_number}\"\n",
    "\n",
    "    try:\n",
    "        response_git = requests.get(url, headers=headers)\n",
    "        response_git.raise_for_status()  # Check for HTTP errors\n",
    "    except requests.exceptions.RequestException as error:\n",
    "        print(f\"Error fetching issue: {error}\")  # Handle potential errors\n",
    "\n",
    "    issue_data = response_git.json()\n",
    "    if issue_data:\n",
    "        return issue_data[\"body\"]\n",
    "    return \"\""
   ]
  },
  {
   "cell_type": "markdown",
   "metadata": {
    "id": "m1UyVuQLuTKE"
   },
   "source": [
    "#### Create an index and extract content of a codebase\n",
    "\n",
    "Clone the repo and create an index and extract content of code/text files."
   ]
  },
  {
   "cell_type": "code",
   "execution_count": 10,
   "metadata": {
    "id": "rqaYzmNQuTKQ"
   },
   "outputs": [],
   "source": [
    "# clone_repo(repo_url, repo_dir)\n",
    "\n",
    "code_index, code_text = extract_code(repo_dir)"
   ]
  },
  {
   "cell_type": "code",
   "execution_count": 11,
   "metadata": {},
   "outputs": [
    {
     "data": {
      "text/plain": [
       "['NEW.md',\n",
       " 'README.md',\n",
       " '.gitignore',\n",
       " '.gitattributes',\n",
       " '.github/workflows/ci.yml',\n",
       " '.ipynb_checkpoints/NEW-checkpoint.md',\n",
       " '.ipynb_checkpoints/README-checkpoint.md',\n",
       " 'util/src/fixprint.cpp',\n",
       " 'util/src/.ipynb_checkpoints/fixprint-checkpoint.cpp',\n",
       " 'include/hffix_fields.hpp',\n",
       " 'include/hffix.hpp',\n",
       " 'include/.ipynb_checkpoints/hffix_fields-checkpoint.hpp',\n",
       " 'include/.ipynb_checkpoints/hffix-checkpoint.hpp']"
      ]
     },
     "execution_count": 11,
     "metadata": {},
     "output_type": "execute_result"
    }
   ],
   "source": [
    "code_index"
   ]
  },
  {
   "cell_type": "code",
   "execution_count": 12,
   "metadata": {},
   "outputs": [
    {
     "data": {
      "text/plain": [
       "4218964"
      ]
     },
     "execution_count": 12,
     "metadata": {},
     "output_type": "execute_result"
    }
   ],
   "source": [
    "len(code_text)"
   ]
  },
  {
   "cell_type": "code",
   "execution_count": 13,
   "metadata": {},
   "outputs": [],
   "source": [
    "f = open('./hffix/README.md', 'r') \n",
    "orignal_doc = f.read()"
   ]
  },
  {
   "cell_type": "code",
   "execution_count": 14,
   "metadata": {},
   "outputs": [
    {
     "name": "stderr",
     "output_type": "stream",
     "text": [
      "/tmp/ipykernel_87876/3887295268.py:2: DeprecationWarning: The 'text' argument to find()-type methods is deprecated. Use 'string' instead.\n",
      "  orignal_doc_text = ''.join(BeautifulSoup(orignal_doc).findAll(text=True))\n"
     ]
    }
   ],
   "source": [
    "from bs4 import BeautifulSoup\n",
    "orignal_doc_text = ''.join(BeautifulSoup(orignal_doc).findAll(text=True))"
   ]
  },
  {
   "cell_type": "markdown",
   "metadata": {
    "id": "JiVQB5SKekS0"
   },
   "source": [
    "## Analysing the codebase with Gemini 1.5 Pro\n",
    "\n",
    "With its long-context reasoning, Gemini 1.5 Pro can process the codebase and answer questions about the codebase."
   ]
  },
  {
   "cell_type": "markdown",
   "metadata": {
    "id": "BY1nfXrqRxVX"
   },
   "source": [
    "#### Load the Gemini 1.5 Pro model\n",
    "\n",
    "Learn more about the [Gemini API models on Vertex AI](https://cloud.google.com/vertex-ai/generative-ai/docs/learn/models#gemini-models).\n"
   ]
  },
  {
   "cell_type": "code",
   "execution_count": 15,
   "metadata": {
    "id": "vB9gY3WruzK9"
   },
   "outputs": [],
   "source": [
    "MODEL_ID = \"gemini-1.5-pro-001\"  # @param {type:\"string\"}\n",
    "\n",
    "model = GenerativeModel(\n",
    "    MODEL_ID,\n",
    "    system_instruction=[\n",
    "        \"You are a coding expert.\",\n",
    "        \"Your mission is to answer all code related questions with given context and instructions.\",\n",
    "    ],\n",
    ")"
   ]
  },
  {
   "cell_type": "markdown",
   "metadata": {},
   "source": [
    "#### Check what is missing from the original documentation"
   ]
  },
  {
   "cell_type": "code",
   "execution_count": 16,
   "metadata": {},
   "outputs": [],
   "source": [
    "def get_code_prompt_doc(question):\n",
    "    \"\"\"Generates a prompt to a code related question.\"\"\"\n",
    "\n",
    "    prompt = f\"\"\"\n",
    "    Questions: {question}\n",
    "\n",
    "    Context:\n",
    "    - The entire codebase is provided below.\n",
    "    - Here is an index of all of the files in the codebase:\n",
    "      \\n\\n{code_index}\\n\\n.\n",
    "    - Then each of the files is concatenated together. You will find all of the code you need:\n",
    "      \\n\\n{code_text}\\n\\n\n",
    "    - Here is the original documentation for this codebase.\n",
    "      \\n\\n{orignal_doc_text}\\n\\n\n",
    "\n",
    "    Answer:\n",
    "  \"\"\"\n",
    "\n",
    "    return prompt"
   ]
  },
  {
   "cell_type": "code",
   "execution_count": 59,
   "metadata": {
    "scrolled": true
   },
   "outputs": [
    {
     "name": "stdout",
     "output_type": "stream",
     "text": [
      "\n",
      "Usage metadata:\n",
      "{'prompt_token_count': 1115385, 'candidates_token_count': 701, 'total_token_count': 1116086}\n"
     ]
    },
    {
     "data": {
      "text/markdown": [
       "```\n",
       "Missing Documentation:\n",
       "\n",
       "**Function `hffix::details::atoi`:**\n",
       "- Description\n",
       "- Error Handling\n",
       "- Dependencies\n",
       "\n",
       "**Function `hffix::details::atou`:**\n",
       "- Description\n",
       "- Error Handling\n",
       "- Dependencies\n",
       "\n",
       "**Function `hffix::details::itoa`:**\n",
       "- Description\n",
       "- Error Handling\n",
       "- Dependencies\n",
       "\n",
       "**Function `hffix::details::utoa`:**\n",
       "- Description\n",
       "- Error Handling\n",
       "- Dependencies\n",
       "\n",
       "**Function `hffix::details::atod`:**\n",
       "- Description\n",
       "- Error Handling\n",
       "- Dependencies\n",
       "\n",
       "**Function `hffix::details::dtoa`:**\n",
       "- Description\n",
       "- Error Handling\n",
       "- Dependencies\n",
       "\n",
       "**Function `hffix::details::atodate`:**\n",
       "- Description\n",
       "- Error Handling\n",
       "- Dependencies\n",
       "\n",
       "**Function `hffix::details::atotime`:**\n",
       "- Description\n",
       "- Error Handling\n",
       "- Dependencies\n",
       "\n",
       "**Function `hffix::details::atotime_nano`:**\n",
       "- Description\n",
       "- Error Handling\n",
       "- Dependencies\n",
       "\n",
       "**Function `hffix::details::atotimepoint`:**\n",
       "- Description\n",
       "- Error Handling\n",
       "- Dependencies\n",
       "\n",
       "**Function `hffix::details::atotimepoint_nano`:**\n",
       "- Description\n",
       "- Error Handling\n",
       "- Dependencies\n",
       "\n",
       "**Function `hffix::details::timepointtoparts`:**\n",
       "- Description\n",
       "- Dependencies\n",
       "\n",
       "**Function `hffix::details::timepointtoparts_nano`:**\n",
       "- Description\n",
       "- Dependencies\n",
       "\n",
       "**Function `hffix::details::is_tag_a_data_length`:**\n",
       "- Description\n",
       "- Parameters\n",
       "- Return values\n",
       "- Error Handling\n",
       "- Dependencies\n",
       "\n",
       "**Function `hffix::details::field_name_streamer::field_name_streamer`:**\n",
       "- Description\n",
       "- Parameters\n",
       "- Return values\n",
       "- Error Handling\n",
       "- Dependencies\n",
       "\n",
       "**Function `hffix::details::int_gte::int_gte`:**\n",
       "- Description\n",
       "- Parameters\n",
       "- Return values\n",
       "- Error Handling\n",
       "- Dependencies\n",
       "\n",
       "**Class `hffix::message_writer`**\n",
       "- Version Information\n",
       "- Additional Notes: No-throw guarantee documentation for `push_back_data()`\n",
       "\n",
       "**Class `hffix::message_reader`**\n",
       "- Version Information\n",
       "- Additional Notes: No-throw guarantee documentation for all methods except `begin()`, `end()`, `message_type()`, `check_sum()` and `message_size()`.\n",
       "\n",
       "**Class `hffix::field_value`**\n",
       "- Version Information\n",
       "\n",
       "**Class `hffix::field`**\n",
       "- Version Information\n",
       "\n",
       "**Class `hffix::message_reader_const_iterator`**\n",
       "- Version Information\n",
       "\n",
       "**Function `hffix::tag_equal::tag_equal`:**\n",
       "- Description\n",
       "- Parameters\n",
       "- Return values\n",
       "- Error Handling\n",
       "- Dependencies\n",
       "\n",
       "**Function `hffix::find_with_hint`:**\n",
       "- Version Information\n",
       "\n",
       "**Function `hffix::dictionary_init_field`:**\n",
       "- Description\n",
       "- Parameters\n",
       "- Return values\n",
       "- Error Handling\n",
       "- Dependencies\n",
       "\n",
       "**Function `hffix::dictionary_init_message`:**\n",
       "- Description\n",
       "- Parameters\n",
       "- Return values\n",
       "- Error Handling\n",
       "- Dependencies\n",
       "\n",
       "**Enum `hffix::tag`**\n",
       "- Description\n",
       "\n",
       "**Namespace `hffix::msg_type`**\n",
       "- Description\n",
       "```"
      ],
      "text/plain": [
       "<IPython.core.display.Markdown object>"
      ]
     },
     "execution_count": 59,
     "metadata": {},
     "output_type": "execute_result"
    }
   ],
   "source": [
    "question = \"\"\"\n",
    "You are an expert in software development and documentation. Your task is to review the provided codebase and identify any missing or incomplete documentation. For each function, class, and module, ensure that the following information is present and accurate:\n",
    "\n",
    "Function/Class/Module Name: The name should be clearly stated.\n",
    "\n",
    "Description: A brief description of what the function, class, or module does.\n",
    "\n",
    "Parameters: List and describe each parameter, including its type and purpose.\n",
    "\n",
    "Return Values: Describe what the function returns, including types and any conditions that affect the return value.\n",
    "\n",
    "Examples: Provide one or more examples of how to use the function, class, or module.\n",
    "\n",
    "Error Handling: Explain any exceptions or errors that might be raised, and under what conditions.\n",
    "\n",
    "Dependencies: List any external modules or libraries required by the function, class, or module.\n",
    "\n",
    "Version Information: Include version history or any version-specific notes if applicable.\n",
    "\n",
    "Additional Notes: Any other relevant information that might be useful for understanding and using the function, class, or module effectively.\n",
    "Please analyze the following code and provide the missing documentation where necessary.\n",
    "Please do not include any code in the ouput, just list all the missing points from the original documentation.\n",
    "\n",
    "\"\"\"\n",
    "\n",
    "prompt = get_code_prompt_doc(question)\n",
    "contents = [prompt]\n",
    "\n",
    "# Generate text using non-streaming method\n",
    "response_summarise = model.generate_content(contents)\n",
    "print(f'\\nUsage metadata:\\n{response_summarise.to_dict().get(\"usage_metadata\")}')\n",
    "IPython.display.Markdown(response_summarise.text)"
   ]
  },
  {
   "cell_type": "code",
   "execution_count": null,
   "metadata": {},
   "outputs": [],
   "source": []
  },
  {
   "cell_type": "code",
   "execution_count": null,
   "metadata": {
    "scrolled": true
   },
   "outputs": [],
   "source": [
    "question = \"\"\"\n",
    "You are an expert in software development and documentation. Your task is to review the provided codebase and identify \n",
    "any missing or incomplete documentation. For each function, class, and module, ensure that the following information \n",
    "is present and accurate:\n",
    "\n",
    "Function/Class/Module Name: The name should be clearly stated.\n",
    "\n",
    "Description: A brief description of what the function, class, or module does.\n",
    "\n",
    "Parameters: List and describe each parameter, including its type and purpose.\n",
    "\n",
    "Return Values: Describe what the function returns, including types and any conditions that affect the return value.\n",
    "\n",
    "Examples: Provide one or more examples of how to use the function, class, or module.\n",
    "\n",
    "Error Handling: Explain any exceptions or errors that might be raised, and under what conditions.\n",
    "\n",
    "Dependencies: List any external modules or libraries required by the function, class, or module.\n",
    "\n",
    "Version Information: Include version history or any version-specific notes if applicable.\n",
    "\n",
    "Additional Notes: Any other relevant information that might be useful for understanding and using the function, class, or module effectively.\n",
    "Please analyze the following code and provide the missing documentation where necessary.\n",
    "Please do not include any code in the ouput, just list all the missing points from the original documentation.\n",
    "Please also try to fill the missing part as the output.\n",
    "\n",
    "\"\"\"\n",
    "\n",
    "prompt = get_code_prompt_doc(question)\n",
    "contents = [prompt]\n",
    "\n",
    "# Generate text using non-streaming method\n",
    "response_summarise = model.generate_content(contents)\n",
    "print(f'\\nUsage metadata:\\n{response_summarise.to_dict().get(\"usage_metadata\")}')\n",
    "IPython.display.Markdown(response_summarise.text)"
   ]
  },
  {
   "cell_type": "code",
   "execution_count": null,
   "metadata": {},
   "outputs": [],
   "source": []
  },
  {
   "cell_type": "code",
   "execution_count": null,
   "metadata": {},
   "outputs": [],
   "source": []
  },
  {
   "cell_type": "code",
   "execution_count": null,
   "metadata": {},
   "outputs": [],
   "source": []
  },
  {
   "cell_type": "code",
   "execution_count": null,
   "metadata": {},
   "outputs": [],
   "source": []
  },
  {
   "cell_type": "markdown",
   "metadata": {
    "id": "yedKsUEEvNyb"
   },
   "source": [
    "#### Define a helper function to generate a prompt to a code related question"
   ]
  },
  {
   "cell_type": "code",
   "execution_count": 19,
   "metadata": {
    "id": "1DGzMhjCvCpj"
   },
   "outputs": [],
   "source": [
    "def get_code_prompt(question):\n",
    "    \"\"\"Generates a prompt to a code related question.\"\"\"\n",
    "\n",
    "    prompt = f\"\"\"\n",
    "    Questions: {question}\n",
    "\n",
    "    Context:\n",
    "    - The entire codebase is provided below.\n",
    "    - Here is an index of all of the files in the codebase:\n",
    "      \\n\\n{code_index}\\n\\n.\n",
    "    - Then each of the files is concatenated together. You will find all of the code you need:\n",
    "      \\n\\n{code_text}\\n\\n\n",
    "\n",
    "    Answer:\n",
    "  \"\"\"\n",
    "\n",
    "    return prompt"
   ]
  },
  {
   "cell_type": "code",
   "execution_count": 20,
   "metadata": {},
   "outputs": [
    {
     "data": {
      "text/plain": [
       "4218964"
      ]
     },
     "execution_count": 20,
     "metadata": {},
     "output_type": "execute_result"
    }
   ],
   "source": [
    "len(code_text)"
   ]
  },
  {
   "cell_type": "markdown",
   "metadata": {
    "id": "g3OtaszvJt9L"
   },
   "source": [
    "### 1. Summarising the codebase\n",
    "\n",
    "\n",
    "Generate a summary of the codebase."
   ]
  },
  {
   "cell_type": "code",
   "execution_count": 21,
   "metadata": {
    "id": "uMexx1Qtf1ML"
   },
   "outputs": [
    {
     "name": "stdout",
     "output_type": "stream",
     "text": [
      "\n",
      "Usage metadata:\n",
      "{'prompt_token_count': 1124166, 'candidates_token_count': 721, 'total_token_count': 1124887}\n"
     ]
    },
    {
     "data": {
      "text/markdown": [
       "The codebase is a C++ library designed for high-frequency, low-latency parsing and serialization of FIX messages. It aims to be extremely fast and memory efficient by operating directly on I/O buffers and avoiding heap allocations. Here's a breakdown of its key components and features:\n",
       "\n",
       "**Core Components:**\n",
       "\n",
       "1. **`message_writer`:**\n",
       "   - Used to serialize FIX messages into a character buffer.\n",
       "   - Provides `push_back` methods for various data types (strings, integers, decimals, dates, times).\n",
       "   - `push_back_header` writes `BeginString` and `BodyLength` fields.\n",
       "   - `push_back_trailer` calculates and writes the `CheckSum` field.\n",
       "\n",
       "2. **`message_reader`:**\n",
       "   - Parses FIX messages from a character buffer.\n",
       "   - Exposes an STL-style forward iterator to access fields sequentially.\n",
       "   - Efficiently handles transport fields (BeginString, BodyLength, CheckSum, data length fields) by skipping them during iteration.\n",
       "   - `is_complete` checks for a complete message in the buffer.\n",
       "   - `is_valid` validates message structure.\n",
       "   - `next_message_reader` helps read multiple messages from the buffer.\n",
       "   - Provides `find_with_hint` to efficiently locate fields based on expected order.\n",
       "\n",
       "3. **`field_value`:**\n",
       "   - Represents the value of a FIX field as a character range.\n",
       "   - Offers `as_` conversion methods for various data types.\n",
       "\n",
       "4. **`field`:**\n",
       "   - Represents a single FIX field with a tag and a `field_value`.\n",
       "\n",
       "**Features:**\n",
       "\n",
       "- **Zero-Copy Parsing and Serialization:** Operates directly on I/O buffers, minimizing memory copies.\n",
       "- **No Heap Allocations:** Designed to use stack memory for parsing and serialization, avoiding expensive heap allocations.\n",
       "- **Serial Field Access:** Provides efficient sequential access to fields using forward iterators.\n",
       "- **Type Conversion:** `field_value` offers convenient methods to convert ASCII field values to common C++ types.\n",
       "- **Date and Time Support:** Supports both `boost::date_time` and `std::chrono` for handling FIX date and time fields.\n",
       "- **Repeating Groups:** Provides mechanisms to handle repeating groups effectively.\n",
       "- **Custom Fields and Tags:** Allows parsing and writing of user-defined fields and custom tags.\n",
       "- **Checksum Calculation:** Calculates checksums for encoded messages and provides methods for validating checksums of decoded messages.\n",
       "\n",
       "**Utilities:**\n",
       "\n",
       "- **`fixprint`:** A command-line utility included in the codebase for pretty-printing FIX messages.\n",
       "- **`hffix_fields.hpp`:** A generated header file containing tag definitions, field dictionaries, and utility functions for working with field names.\n",
       "\n",
       "**Additional Notes:**\n",
       "\n",
       "- The library doesn't handle FIX sessions, focusing purely on message parsing and serialization.\n",
       "- It doesn't implement encryption methods but supports binary data fields.\n",
       "- Designed for C++98 but compatible with newer standards, taking advantage of features like `std::string_view` and `std::chrono` when available.\n",
       "\n",
       "In summary, this codebase is a powerful and efficient C++ library specifically tailored for high-frequency FIX message processing. Its design choices prioritize speed and minimal memory usage, making it a suitable choice for performance-critical applications in financial trading.\n"
      ],
      "text/plain": [
       "<IPython.core.display.Markdown object>"
      ]
     },
     "execution_count": 21,
     "metadata": {},
     "output_type": "execute_result"
    }
   ],
   "source": [
    "question = \"\"\"\n",
    "  Give me a summary of this codebase in details\n",
    "\"\"\"\n",
    "\n",
    "prompt = get_code_prompt(question)\n",
    "contents = [prompt]\n",
    "\n",
    "# Generate text using non-streaming method\n",
    "response_summarise = model.generate_content(contents)\n",
    "print(f'\\nUsage metadata:\\n{response_summarise.to_dict().get(\"usage_metadata\")}')\n",
    "IPython.display.Markdown(response_summarise.text)"
   ]
  },
  {
   "cell_type": "markdown",
   "metadata": {
    "id": "aCshJHPCYoxI"
   },
   "source": [
    "### 2. Creating a guide document\n",
    "\n",
    "Generate a guide document for developers."
   ]
  },
  {
   "cell_type": "code",
   "execution_count": 82,
   "metadata": {
    "id": "e6Kns7vCYm1P"
   },
   "outputs": [
    {
     "data": {
      "text/markdown": [
       "```"
      ],
      "text/plain": [
       "<IPython.core.display.Markdown object>"
      ]
     },
     "execution_count": 82,
     "metadata": {},
     "output_type": "execute_result"
    },
    {
     "data": {
      "text/markdown": [
       "\n",
       "## Getting Started with High Frequency FIX Parser\n",
       "\n",
       "Welcome to the High Frequency FIX"
      ],
      "text/plain": [
       "<IPython.core.display.Markdown object>"
      ]
     },
     "execution_count": 82,
     "metadata": {},
     "output_type": "execute_result"
    },
    {
     "data": {
      "text/markdown": [
       " Parser library! This guide will help you get started with the codebase.\n",
       "\n"
      ],
      "text/plain": [
       "<IPython.core.display.Markdown object>"
      ]
     },
     "execution_count": 82,
     "metadata": {},
     "output_type": "execute_result"
    },
    {
     "data": {
      "text/markdown": [
       "### Introduction\n",
       "\n",
       "This C++ library is designed for high-performance FIX message encoding and decoding, specifically for low-latency applications like high-frequency trading. It"
      ],
      "text/plain": [
       "<IPython.core.display.Markdown object>"
      ]
     },
     "execution_count": 82,
     "metadata": {},
     "output_type": "execute_result"
    },
    {
     "data": {
      "text/markdown": [
       "'s header-only, meaning you don't need to compile and link libraries.\n",
       "\n",
       "### Key Features\n",
       "\n",
       "* **In-place processing:** Operates"
      ],
      "text/plain": [
       "<IPython.core.display.Markdown object>"
      ]
     },
     "execution_count": 82,
     "metadata": {},
     "output_type": "execute_result"
    },
    {
     "data": {
      "text/markdown": [
       " directly on the I/O buffer without intermediate objects, minimizing memory allocation and latency.\n",
       "* **STL-style interface:** Uses familiar concepts like iterators and containers for reading and writing FIX messages.\n",
       "* **No dynamic memory allocation:**"
      ],
      "text/plain": [
       "<IPython.core.display.Markdown object>"
      ]
     },
     "execution_count": 82,
     "metadata": {},
     "output_type": "execute_result"
    },
    {
     "data": {
      "text/markdown": [
       " Designed to avoid heap allocations, reducing latency and potential for memory fragmentation.\n",
       "* **Speed:** Optimized for performance, particularly for low-latency environments.\n",
       "\n",
       "### Setup\n",
       "\n",
       "1. **Include headers:**  Include the two header files in your"
      ],
      "text/plain": [
       "<IPython.core.display.Markdown object>"
      ]
     },
     "execution_count": 82,
     "metadata": {},
     "output_type": "execute_result"
    },
    {
     "data": {
      "text/markdown": [
       " project:\n",
       "   - `hffix/include/hffix.hpp`\n",
       "   - `hffix/include/hffix_fields.hpp`\n",
       "\n",
       "2. **Boost Date_Time support:** (Optional) If you want to use Boost Date_Time types, include them *before* `hffix"
      ],
      "text/plain": [
       "<IPython.core.display.Markdown object>"
      ]
     },
     "execution_count": 82,
     "metadata": {},
     "output_type": "execute_result"
    },
    {
     "data": {
      "text/markdown": [
       ".hpp`:\n",
       "   - `#include <boost/date_time/posix_time/posix_time_types.hpp>`\n",
       "   - `#include <boost/date_time/gregorian/gregorian_types.hpp>`\n",
       "\n",
       "3. **std::chrono support:** (Available in C"
      ],
      "text/plain": [
       "<IPython.core.display.Markdown object>"
      ]
     },
     "execution_count": 82,
     "metadata": {},
     "output_type": "execute_result"
    },
    {
     "data": {
      "text/markdown": [
       "++11 and later) Support for `std::chrono::time_point` and `std::chrono::duration` is automatically enabled for FIX date and time fields.\n",
       "\n",
       "### Writing FIX Messages\n",
       "\n",
       "Use `hffix::message_writer` to write FIX messages:\n",
       "\n",
       "```c++\n",
       "char buffer[1"
      ],
      "text/plain": [
       "<IPython.core.display.Markdown object>"
      ]
     },
     "execution_count": 82,
     "metadata": {},
     "output_type": "execute_result"
    },
    {
     "data": {
      "text/markdown": [
       " << 13]; // Define a buffer\n",
       "hffix::message_writer writer(buffer, buffer + sizeof(buffer)); // Initialize the writer\n",
       "\n",
       "writer.push_back_header(\"FIX.4.2\"); // Write BeginString and BodyLength\n",
       "writer.push_back_string(hffix::"
      ],
      "text/plain": [
       "<IPython.core.display.Markdown object>"
      ]
     },
     "execution_count": 82,
     "metadata": {},
     "output_type": "execute_result"
    },
    {
     "data": {
      "text/markdown": [
       "tag::MsgType, \"D\"); // New Order - Single message\n",
       "writer.push_back_string(hffix::tag::Symbol, \"AAPL\"); // Add more fields...\n",
       "// ...\n",
       "writer.push_back_trailer(); // Write CheckSum\n",
       "```\n",
       "\n",
       "* Use various `push_back"
      ],
      "text/plain": [
       "<IPython.core.display.Markdown object>"
      ]
     },
     "execution_count": 82,
     "metadata": {},
     "output_type": "execute_result"
    },
    {
     "data": {
      "text/markdown": [
       "_` methods for different data types (string, int, decimal, date, timestamp, data).\n",
       "*  For custom serialization, use `push_back_string` and handle encoding yourself.\n",
       "*  Remember to call `push_back_header` at the beginning and `push_back_trailer`"
      ],
      "text/plain": [
       "<IPython.core.display.Markdown object>"
      ]
     },
     "execution_count": 82,
     "metadata": {},
     "output_type": "execute_result"
    },
    {
     "data": {
      "text/markdown": [
       " at the end.\n",
       "\n",
       "### Reading FIX Messages\n",
       "\n",
       "Use `hffix::message_reader` to read FIX messages:\n",
       "\n",
       "```c++\n",
       "char buffer[1 << 20]; // Buffer for reading\n",
       "hffix::message_reader reader(buffer, buffer + sizeof(buffer));\n",
       "\n",
       "if (reader."
      ],
      "text/plain": [
       "<IPython.core.display.Markdown object>"
      ]
     },
     "execution_count": 82,
     "metadata": {},
     "output_type": "execute_result"
    },
    {
     "data": {
      "text/markdown": [
       "is_complete() && reader.is_valid()) {\n",
       "  for (hffix::message_reader::const_iterator i = reader.begin(); i != reader.end(); ++i) {\n",
       "    std::cout << \"Tag: \" << i->tag() << \", Value: \" << i"
      ],
      "text/plain": [
       "<IPython.core.display.Markdown object>"
      ]
     },
     "execution_count": 82,
     "metadata": {},
     "output_type": "execute_result"
    },
    {
     "data": {
      "text/markdown": [
       "->value() << std::endl;\n",
       "  }\n",
       "}\n",
       "```\n",
       "\n",
       "* `is_complete` checks if the buffer contains a complete FIX message.\n",
       "* `is_valid` verifies the message's header and trailer integrity.\n",
       "*  Iterate through fields using `const_iterator` and access"
      ],
      "text/plain": [
       "<IPython.core.display.Markdown object>"
      ]
     },
     "execution_count": 82,
     "metadata": {},
     "output_type": "execute_result"
    },
    {
     "data": {
      "text/markdown": [
       " their tag and value.\n",
       "*  Use `as_` methods on `field_value` for deserialization (e.g., `as_int`, `as_string`, `as_timestamp`).\n",
       "\n",
       "### Field Dictionary\n",
       "\n",
       "Use the `hffix::dictionary_init_field` function to create a"
      ],
      "text/plain": [
       "<IPython.core.display.Markdown object>"
      ]
     },
     "execution_count": 82,
     "metadata": {},
     "output_type": "execute_result"
    },
    {
     "data": {
      "text/markdown": [
       " dictionary that maps tag numbers to field names:\n",
       "\n",
       "```c++\n",
       "std::map<int, std::string> field_dictionary;\n",
       "hffix::dictionary_init_field(field_dictionary);\n",
       "\n",
       "std::cout << \"Field name for tag 35: \" << field_dictionary[hffix"
      ],
      "text/plain": [
       "<IPython.core.display.Markdown object>"
      ]
     },
     "execution_count": 82,
     "metadata": {},
     "output_type": "execute_result"
    },
    {
     "data": {
      "text/markdown": [
       "::tag::MsgType] << std::endl;\n",
       "```\n",
       "\n",
       "### Utilities and Examples\n",
       "\n",
       "* The `fixprint` utility included in the codebase demonstrates reading and pretty-printing FIX messages.\n",
       "*  Refer to the `test/` and `util/` directories for example code and test cases.\n",
       "\n",
       "###"
      ],
      "text/plain": [
       "<IPython.core.display.Markdown object>"
      ]
     },
     "execution_count": 82,
     "metadata": {},
     "output_type": "execute_result"
    },
    {
     "data": {
      "text/markdown": [
       " Development Resources\n",
       "\n",
       "* **Doxygen documentation:** [https://jamesdbrock.github.io/hffix](https://jamesdbrock.github.io/hffix)\n",
       "* **GitHub repository:** [https://github.com/jamesdbrock/hffix](https://github.com/jamesdb"
      ],
      "text/plain": [
       "<IPython.core.display.Markdown object>"
      ]
     },
     "execution_count": 82,
     "metadata": {},
     "output_type": "execute_result"
    },
    {
     "data": {
      "text/markdown": [
       "rock/hffix)\n",
       "\n",
       "Feel free to explore the codebase and the documentation. If you have questions or need assistance, raise an issue on the GitHub repository.\n",
       "\n",
       "Happy coding!\n",
       "```"
      ],
      "text/plain": [
       "<IPython.core.display.Markdown object>"
      ]
     },
     "execution_count": 82,
     "metadata": {},
     "output_type": "execute_result"
    },
    {
     "data": {
      "text/markdown": [],
      "text/plain": [
       "<IPython.core.display.Markdown object>"
      ]
     },
     "execution_count": 82,
     "metadata": {},
     "output_type": "execute_result"
    }
   ],
   "source": [
    "question = \"\"\"\n",
    "  Provide a getting started guide to onboard new developers to the codebase.\n",
    "\"\"\"\n",
    "\n",
    "prompt = get_code_prompt(question)\n",
    "contents = [prompt]\n",
    "doc_responses = model.generate_content(contents)\n",
    "print(f'\\nUsage metadata:\\n{response_summarise.to_dict().get(\"usage_metadata\")}')\n",
    "IPython.display.Markdown(doc_responses.text)"
   ]
  },
  {
   "cell_type": "markdown",
   "metadata": {},
   "source": [
    "#### 3. Generate C++ code for reading FIX message\n",
    "\n",
    "Generate code for FIX message reading"
   ]
  },
  {
   "cell_type": "code",
   "execution_count": 92,
   "metadata": {
    "scrolled": true
   },
   "outputs": [
    {
     "data": {
      "text/markdown": [
       "```cpp\n",
       "#include <iostream>\n",
       "#include <cstdio>\n",
       "#include <map>\n",
       "\n",
       "// We want Boost Date_Time support, so include these before hffix.hpp.\n",
       "#include <boost/date_time/posix_time/posix_time.hpp>\n",
       "#include <boost/date_time/gregorian/gregorian.hpp>\n",
       "\n",
       "#include <hffix.hpp>\n",
       "\n",
       "const size_t chunksize = 4096; // Choose a preferred I/O chunk size.\n",
       "\n",
       "char buffer[1 << 20]; // Must be larger than the largest FIX message size.\n",
       "\n",
       "int main(int argc, char** argv)\n",
       "{\n",
       "    int return_code = 0;\n",
       "\n",
       "    std::map<int, std::string> field_dictionary;\n",
       "    hffix::dictionary_init_field(field_dictionary);\n",
       "\n",
       "    size_t buffer_length(0); // The number of bytes read in buffer[].\n",
       "\n",
       "    size_t fred; // Number of bytes read from fread().\n",
       "\n",
       "    // Read chunks from stdin until 0 is read or the buffer fills up without\n",
       "    // finding a complete message.\n",
       "    while ((fred = std::fread(\n",
       "                    buffer + buffer_length,\n",
       "                    1,\n",
       "                    std::min(sizeof(buffer) - buffer_length, chunksize),\n",
       "                    stdin\n",
       "                    )\n",
       "          )) {\n",
       "\n",
       "        buffer_length += fred;\n",
       "        hffix::message_reader reader(buffer, buffer + buffer_length);\n",
       "\n",
       "        // Try to read as many complete messages as there are in the buffer.\n",
       "        for (; reader.is_complete(); reader = reader.next_message_reader()) {\n",
       "            if (reader.is_valid()) {\n",
       "\n",
       "                // Here is a complete message. Read fields out of the reader.\n",
       "                // Print the message \n",
       "                std::cout << reader << std::endl;\n",
       "\n",
       "            } else {\n",
       "                // An invalid, corrupted FIX message. Do not try to read fields\n",
       "                // out of this reader. The beginning of the invalid message is\n",
       "                // at location reader.message_begin() in the buffer, but the\n",
       "                // end of the invalid message is unknown (because it's invalid).\n",
       "                //\n",
       "                // Stay in this for loop, because the\n",
       "                // messager_reader::next_message_reader() function will see\n",
       "                // that this message is invalid and it will search the\n",
       "                // remainder of the buffer for the text \"8=FIX\", to see if\n",
       "                // there might be a complete or partial valid message anywhere\n",
       "                // else in the remainder of the buffer.\n",
       "                //\n",
       "                // Set the return code non-zero to indicate that there was\n",
       "                // an invalid message, and print the first 64 chars of the\n",
       "                // invalid message.\n",
       "                return_code = 1;\n",
       "                std::cerr << \"Error Invalid FIX message: \";\n",
       "                std::cerr.write(\n",
       "                    reader.message_begin(),\n",
       "                    std::min(\n",
       "                        ssize_t(64),\n",
       "                        buffer + buffer_length - reader.message_begin()\n",
       "                        )\n",
       "                    );\n",
       "                std::cerr << \"...\\n\";\n",
       "            }\n",
       "        }\n",
       "        buffer_length = reader.buffer_end() - reader.buffer_begin();\n",
       "\n",
       "        if (buffer_length > 0)\n",
       "            // Then there is an incomplete message at the end of the buffer.\n",
       "            // Move the partial portion of the incomplete message to buffer[0].\n",
       "            std::memmove(buffer, reader.buffer_begin(), buffer_length);\n",
       "    }\n",
       "\n",
       "    return return_code;\n",
       "}\n",
       "```\n",
       "\n",
       "**Input Example:**\n",
       "\n",
       "```\n",
       "8=FIX.4.2\u00019=65\u000135=A\u000149=SERVER\u000156=CLIENT\u000134=1\u000152=20231026-19:43:43.824\u000198=0\u0001108=30\u000110=032\u0001\n",
       "```\n",
       "\n",
       "**Output Example:**\n",
       "\n",
       "```\n",
       "8=FIX.4.2\n",
       "9=65\n",
       "35=A\n",
       "49=SERVER\n",
       "56=CLIENT\n",
       "34=1\n",
       "52=20231026-19:43:43.824\n",
       "98=0\n",
       "108=30\n",
       "10=032\n",
       "```\n",
       "\n",
       "**Explanation:**\n",
       "\n",
       "1. **Include necessary headers:** The code includes headers for I/O, Boost Date_Time for date and time support, and the `hffix.hpp` header for the FIX parser.\n",
       "2. **Create a buffer:** A large character buffer `buffer` is allocated to hold incoming FIX messages.\n",
       "3. **Read FIX messages from stdin:** The code reads chunks of data from standard input (`stdin`) using `fread()` and appends them to the buffer.\n",
       "4. **Create a `message_reader`:**  For each chunk, a `hffix::message_reader` is created to parse the FIX data within the buffer.\n",
       "5. **Check for complete and valid messages:** The `reader.is_complete()` method checks if a complete FIX message is present in the buffer. The `reader.is_valid()` method verifies if the message structure is valid.\n",
       "6. **Print valid messages:** If the message is both complete and valid, it is printed to standard output using `std::cout << reader << std::endl;`. The `operator<<` overload for `message_reader` handles the formatted output.\n",
       "7. **Handle invalid messages:** If a message is invalid, an error message is printed to standard error (`std::cerr`), along with the first 64 characters of the invalid message.\n",
       "8. **Process incomplete messages:** If a chunk ends with an incomplete message, the code moves the partial message to the beginning of the buffer to be combined with the next chunk.\n",
       "\n",
       "The example demonstrates how to read FIX messages from an input stream, validate them, and print their content in a human-readable format. \n"
      ],
      "text/plain": [
       "<IPython.core.display.Markdown object>"
      ]
     },
     "execution_count": 92,
     "metadata": {},
     "output_type": "execute_result"
    }
   ],
   "source": [
    "question = \"\"\"\n",
    "  Based on codebase, please write the code to read the FIX message, with input and output examples, please also add comments when necessary\n",
    "\"\"\"\n",
    "\n",
    "prompt = get_code_prompt(question)\n",
    "contents = [prompt]\n",
    "\n",
    "code_response = model.generate_content(contents)\n",
    "IPython.display.Markdown(code_response.text)"
   ]
  },
  {
   "cell_type": "markdown",
   "metadata": {
    "id": "hXurINu-jelb"
   },
   "source": [
    "### 4. Finding bugs\n",
    "\n",
    "Find the most severe issues in the codebase."
   ]
  },
  {
   "cell_type": "code",
   "execution_count": 10,
   "metadata": {
    "id": "fy3AWPRgNhu_"
   },
   "outputs": [
    {
     "ename": "NameError",
     "evalue": "name 'model' is not defined",
     "output_type": "error",
     "traceback": [
      "\u001b[0;31m---------------------------------------------------------------------------\u001b[0m",
      "\u001b[0;31mNameError\u001b[0m                                 Traceback (most recent call last)",
      "Cell \u001b[0;32mIn[10], line 8\u001b[0m\n\u001b[1;32m      5\u001b[0m prompt \u001b[38;5;241m=\u001b[39m get_code_prompt(question)\n\u001b[1;32m      6\u001b[0m contents \u001b[38;5;241m=\u001b[39m [prompt]\n\u001b[0;32m----> 8\u001b[0m bug_responses \u001b[38;5;241m=\u001b[39m \u001b[43mmodel\u001b[49m\u001b[38;5;241m.\u001b[39mgenerate_content(contents)\n\u001b[1;32m      9\u001b[0m IPython\u001b[38;5;241m.\u001b[39mdisplay\u001b[38;5;241m.\u001b[39mMarkdown(bug_responses\u001b[38;5;241m.\u001b[39mtext)\n",
      "\u001b[0;31mNameError\u001b[0m: name 'model' is not defined"
     ]
    }
   ],
   "source": [
    "question = \"\"\"\n",
    "  Find the most severe issues in the codebase.\n",
    "\"\"\"\n",
    "\n",
    "prompt = get_code_prompt(question)\n",
    "contents = [prompt]\n",
    "\n",
    "bug_responses = model.generate_content(contents)\n",
    "IPython.display.Markdown(bug_responses.text)"
   ]
  },
  {
   "cell_type": "markdown",
   "metadata": {
    "id": "HCilrR6FjmfB"
   },
   "source": [
    "### 5. Fixing bug\n",
    "\n",
    "Find the most severe issue in the codebase that can be fixed and provide a code fix for it.\n"
   ]
  },
  {
   "cell_type": "code",
   "execution_count": 97,
   "metadata": {
    "id": "dwjDh0xGKE2r"
   },
   "outputs": [
    {
     "data": {
      "text/markdown": [
       "The code you provided seems to be generally well-written and robust. The only potential issue I see is in the `message_reader::prefix_size()` function.\n",
       "\n",
       "```cpp\n",
       "    /*!\n",
       "     * \\brief Returns the FIX version prefix BeginString field value size. (Example: returns 7 for \"FIX.4.4\")\n",
       "     */\n",
       "    size_t prefix_size() const {\n",
       "        return prefix_end_ - buffer_ - 2;\n",
       "    }\n",
       "```\n",
       "\n",
       "This function calculates the size of the FIX version prefix by subtracting the beginning of the buffer (`buffer_`) and a constant 2 from the end of the prefix (`prefix_end_`). However,  if `prefix_end_` is less than `buffer_ + 2` (which could happen if the input data is malformed), the result will be a very large unsigned integer due to underflow. \n",
       "\n",
       "While the code explicitly checks for malformed prefixes during initialization (`message_reader::init()`),  it's possible that a malformed prefix could slip through or be introduced later if the buffer is modified externally.\n",
       "\n",
       "Here's a possible fix for `message_reader::prefix_size()` that avoids the underflow issue:\n",
       "\n",
       "```cpp\n",
       "    /*!\n",
       "     * \\brief Returns the FIX version prefix BeginString field value size. (Example: returns 7 for \"FIX.4.4\")\n",
       "     */\n",
       "    size_t prefix_size() const {\n",
       "        return std::max(std::ptrdiff_t(0), prefix_end_ - buffer_ - 2); \n",
       "    }\n",
       "```\n",
       "\n",
       "By using `std::max` and comparing with 0, this ensures that the returned size is never negative, even in the case of underflow. This makes the code more robust and prevents unexpected behavior with malformed input. \n"
      ],
      "text/plain": [
       "<IPython.core.display.Markdown object>"
      ]
     },
     "execution_count": 97,
     "metadata": {},
     "output_type": "execute_result"
    }
   ],
   "source": [
    "question = \"\"\"\n",
    "  Find the most severe bug in the codebase that you can provide a code fix for.\n",
    "\"\"\"\n",
    "\n",
    "prompt = get_code_prompt(question)\n",
    "contents = [prompt]\n",
    "\n",
    "fixbug_responses = model.generate_content(contents)\n",
    "IPython.display.Markdown(fixbug_responses.text)"
   ]
  },
  {
   "cell_type": "markdown",
   "metadata": {},
   "source": [
    "### 6. Finding the inserted bugs"
   ]
  },
  {
   "cell_type": "code",
   "execution_count": 41,
   "metadata": {},
   "outputs": [
    {
     "data": {
      "text/markdown": [
       "```cpp\n",
       "----- File: include/hffix.hpp -----\n",
       "```\n",
       "```cpp\n",
       "    void push_back_header(char const* begin_string_version) {\n",
       "        if (body_length_) throw std::logic_error(\"hffix message_writer.push_back_header called twice\");\n",
       "        if (buffer_end_ - next_ < 2 + std::ptrdiff_t(strlen(begin_string_version)) + 3 + 6) { // changed 7 to 6\n",
       "            details::throw_range_error();\n",
       "        }\n",
       "```\n",
       "- **Bug:** The code calculates the minimum required buffer size incorrectly. `buffer_end_ - next_` represents the remaining buffer size. It adds up the sizes of the `BeginString`, `BodyLength`, and their separators, but it should be **7** (2 for \"8=\", length of `begin_string_version`, 1 for SOH, 2 for \"9=\", 6 for body length, 1 for SOH) instead of 6.\n",
       "\n",
       "- **Why it is a bug:** The calculation is off by one, leading to potential buffer overflows if the remaining buffer size is exactly one byte less than required.\n",
       "\n",
       "- **Suggested fix:** Change `6` to `7` in the conditional statement.\n",
       "\n",
       "```cpp\n",
       "        if (buffer_end_ - next_ < 2 + std::ptrdiff_t(strlen(begin_string_version)) + 3 + 7) {\n",
       "            details::throw_range_error();\n",
       "        }\n",
       "```\n",
       "```cpp\n",
       "    void push_back_string(int tag, char const* cstring) {\n",
       "        // Find the end of the cstring, like strlen, but throw if the cstring\n",
       "        // is longer than the remaining buffer.\n",
       "        char const* cstring_end = (char const*)memchr(cstring, 0, buffer_end_ - next_ - 1); // changed buffer_end_ - next_ to buffer_end_ - next_ - 1\n",
       "        if (cstring_end) push_back_string(tag, cstring, cstring_end);\n",
       "        else details::throw_range_error();\n",
       "    }\n",
       "```\n",
       "- **Bug:** The code for finding the null terminator (`\\0`) of the C-string is incorrect. `buffer_end_ - next_` represents the remaining buffer size. It is looking for null terminator in a range that includes SOH, which should be excluded.\n",
       "\n",
       "- **Why it is a bug:** The code includes SOH in the range for finding the null terminator of the C-string.  It might mistakenly treat SOH as a null terminator.\n",
       "\n",
       "- **Suggested fix:** `buffer_end_ - next_` should be `buffer_end_ - next_ - 1` in the third argument of `memchr()` to exclude SOH.\n",
       "\n",
       "```cpp\n",
       "        char const* cstring_end = (char const*)memchr(cstring, 0, buffer_end_ - next_ - 1);\n",
       "        if (cstring_end) push_back_string(tag, cstring, cstring_end);\n",
       "        else details::throw_range_error();\n",
       "```\n",
       "\n",
       "```cpp\n",
       "inline friend bool operator==(field_value const& that, char const* cstring) {\n",
       "        return strncmp(that.begin(), cstring, that.size()) == 0 && cstring[that.size()] == 0; // changed !strncmp to strncmp == 0 \n",
       "    }\n",
       "```\n",
       "- **Bug:** The operator uses `!strncmp` to check if the strings are equal, which is incorrect. `!strncmp` is true when the strings are **different**, not equal.\n",
       "\n",
       "- **Why it is a bug:** The operator returns true if the strings are different, leading to unexpected behavior when comparing field values.\n",
       "\n",
       "- **Suggested fix:** Change `!strncmp` to `strncmp == 0` to correctly compare the strings.\n",
       "\n",
       "```cpp\n",
       "    inline friend bool operator==(field_value const& that, char const* cstring) {\n",
       "        return strncmp(that.begin(), cstring, that.size()) == 0 && cstring[that.size()] == 0;\n",
       "    }\n",
       "```\n",
       "\n",
       "```cpp\n",
       "     current_.value_.end_ = std::find(current_.value_.begin_, message_reader_->message_end(), '\\x01');\n",
       "    if (details::is_tag_a_data_length(current_.tag_)) {\n",
       "        size_t data_len = details::atou<size_t>(current_.value_.begin_, current_.value_.end_);\n",
       "\n",
       "        buffer_ = current_.value_.end_ + 1;\n",
       "        current_.value_.begin_ = buffer_;\n",
       "        current_.tag_ = 0;\n",
       "\n",
       "        while(*current_.value_.begin_ != '=') {\n",
       "            current_.tag_ *= 10;\n",
       "            current_.tag_ += (*current_.value_.begin_ - '0');\n",
       "            ++current_.value_.begin_;\n",
       "        }\n",
       "\n",
       "        current_.value_.end_ = ++current_.value_.begin_ + data_len;\n",
       "    }\n",
       "```\n",
       "- **Bug:** The `current_.value_.begin_` is incremented one byte before adding `data_len`, which is incorrect. \n",
       "\n",
       "- **Why it is a bug:** The code calculates the end position of the data field incorrectly, potentially leading to data corruption or access violations.\n",
       "\n",
       "- **Suggested fix:** Remove `++` before `current_.value_.begin_` on the last line of this block.\n",
       "\n",
       "```cpp\n",
       "        current_.value_.end_ = current_.value_.begin_ + data_len;\n",
       "    }\n",
       "```\n",
       "\n",
       "```cpp\n",
       "        size_t const len = next_ - (body_length_ + 6);\n",
       "        body_length_[0] = '0' + (len / 100000) % 10;\n",
       "        body_length_[1] = '0' + (len / 10000) % 10;\n",
       "        body_length_[2] = '0' + (len / 1000) % 10;\n",
       "        body_length_[3] = '0' + (len / 100) % 10;\n",
       "        body_length_[4] = '0' + (len / 10) % 10;\n",
       "        body_length_[5] = '0' + len % 10;\n",
       "```\n",
       "- **Bug:**  The code calculates the BodyLength value incorrectly. It should be the length between the beginning of the body and the `=` of Checksum, not include the Checksum field and SOH.\n",
       "\n",
       "- **Why it is a bug:** The code calculates the BodyLength field incorrectly, causing the FIX message to be invalid.\n",
       "\n",
       "- **Suggested fix:** `next_ - (body_length_ + 6)` should be `next_ - (body_length_ + 7)`.\n",
       "\n",
       "```cpp\n",
       "       size_t const len = next_ - (body_length_ + 7);\n",
       "        body_length_[0] = '0' + (len / 100000) % 10;\n",
       "        body_length_[1] = '0' + (len / 10000) % 10;\n",
       "        body_length_[2] = '0' + (len / 1000) % 10;\n",
       "        body_length_[3] = '0' + (len / 100) % 10;\n",
       "        body_length_[4] = '0' + (len / 10) % 10;\n",
       "        body_length_[5] = '0' + len % 10;\n",
       "```\n",
       "\n",
       "```cpp\n",
       "        size_t const len = next_ - (body_length_ + 6);\n",
       "        body_length_[0] = '0' + (len / 100000) % 10;\n",
       "        body_length_[1] = '0' + (len / 10000) % 10;\n",
       "        body_length_[2] = '0' + (len / 1000) % 10;\n",
       "        body_length_[3] = '0' + (len / 100) % 10;\n",
       "        body_length_[4] = '0' + (len / 10) % 10;\n",
       "        body_length_[5] = '0' + len % 10;\n",
       "```\n",
       "- **Bug:**  The code calculates the BodyLength value incorrectly. It should be the length between the beginning of the body and the `=` of Checksum, not include the Checksum field and SOH.\n",
       "\n",
       "- **Why it is a bug:** The code calculates the BodyLength field incorrectly, causing the FIX message to be invalid.\n",
       "\n",
       "- **Suggested fix:** `next_ - (body_length_ + 6)` should be `next_ - (body_length_ + 7)`.\n",
       "\n",
       "```cpp\n",
       "       size_t const len = next_ - (body_length_ + 7);\n",
       "        body_length_[0] = '0' + (len / 100000) % 10;\n",
       "        body_length_[1] = '0' + (len / 10000) % 10;\n",
       "        body_length_[2] = '0' + (len / 1000) % 10;\n",
       "        body_length_[3] = '0' + (len / 100) % 10;\n",
       "        body_length_[4] = '0' + (len / 10) % 10;\n",
       "        body_length_[5] = '0' + len % 10;\n",
       "```\n"
      ],
      "text/plain": [
       "<IPython.core.display.Markdown object>"
      ]
     },
     "execution_count": 41,
     "metadata": {},
     "output_type": "execute_result"
    }
   ],
   "source": [
    "question = \"\"\"\n",
    "  Please find all the bugs in the codebase.\n",
    "  Please include the file name where you found the bugs.\n",
    "  Please explain why it is a bug.\n",
    "  Please give the code suggestions on how to fix each of them.\n",
    "\"\"\"\n",
    "\n",
    "prompt = get_code_prompt(question)\n",
    "contents = [prompt]\n",
    "\n",
    "bug_responses = model.generate_content(contents)\n",
    "IPython.display.Markdown(bug_responses.text)"
   ]
  },
  {
   "cell_type": "code",
   "execution_count": null,
   "metadata": {
    "id": "mMjOy0gJ1_xx"
   },
   "outputs": [],
   "source": [
    "# Function declaration with detailed docstring\n",
    "extract_details_from_url_func = FunctionDeclaration(\n",
    "    name=\"extract_details_from_url\",\n",
    "    description=\"Extracts owner, repository name, and issue number details from a GitHub issue URL\",\n",
    "    parameters={\n",
    "        \"type\": \"object\",\n",
    "        \"properties\": {\n",
    "            \"owner\": {\n",
    "                \"type\": \"string\",\n",
    "                \"description\": \"The owner of the GitHub repository.\",\n",
    "            },\n",
    "            \"repo\": {\n",
    "                \"type\": \"string\",\n",
    "                \"description\": \"The name of the GitHub repository.\",\n",
    "            },\n",
    "            \"issue_number\": {\n",
    "                \"type\": \"string\",\n",
    "                \"description\": \"The issue number to fetch the body of.\",\n",
    "            },\n",
    "        },\n",
    "    },\n",
    ")\n",
    "\n",
    "# Tool definition\n",
    "extraction_tool = Tool(function_declarations=[extract_details_from_url_func])\n",
    "\n",
    "FEATURE_REQUEST_URL = (\n",
    "    \"https://github.com/GoogleCloudPlatform/microservices-demo/issues/2205\"\n",
    ")\n",
    "\n",
    "# Prompt content\n",
    "prompt_content = f\"What is the feature request of the following {FEATURE_REQUEST_URL}\"\n",
    "\n",
    "# Model generation with tool usage\n",
    "response = model.generate_content(\n",
    "    [prompt_content],\n",
    "    generation_config=GenerationConfig(temperature=0),\n",
    "    tools=[extraction_tool],\n",
    ")\n",
    "# Extract parameters from model response\n",
    "function_call = response.candidates[0].function_calls[0]\n",
    "\n",
    "# Fetch issue details from GitHub API if function call matches\n",
    "if function_call.name == \"extract_details_from_url\":\n",
    "    issue_body = get_github_issue(\n",
    "        function_call.args[\"owner\"],\n",
    "        function_call.args[\"repo\"],\n",
    "        function_call.args[\"issue_number\"],\n",
    "    )\n",
    "\n",
    "IPython.display.Markdown(f\"Feature Request:\\n{issue_body}\")"
   ]
  },
  {
   "cell_type": "markdown",
   "metadata": {},
   "source": [
    "Use the GitHub Issue text to implement the feature request"
   ]
  },
  {
   "cell_type": "code",
   "execution_count": null,
   "metadata": {},
   "outputs": [],
   "source": [
    "# Combine feature request with URL and get code prompt\n",
    "question = (\n",
    "    \"Implement the following feature request\" + FEATURE_REQUEST_URL + \"\\n\" + issue_body\n",
    ")\n",
    "\n",
    "prompt = get_code_prompt(question)\n",
    "\n",
    "# Generate code response\n",
    "response = model.generate_content([prompt])\n",
    "IPython.display.Markdown(response.text)  # Display in Markdown format"
   ]
  },
  {
   "cell_type": "code",
   "execution_count": null,
   "metadata": {
    "id": "DKn85LS-v0iw"
   },
   "outputs": [],
   "source": [
    "question = \"\"\"\n",
    "    Provide a troubleshooting guide to help resolve common issues.\n",
    "\"\"\"\n",
    "\n",
    "prompt = get_code_prompt(question)\n",
    "contents = [prompt]\n",
    "\n",
    "responses = model.generate_content(contents, stream=True)\n",
    "for response in responses:\n",
    "    IPython.display.Markdown(response.text)"
   ]
  },
  {
   "cell_type": "code",
   "execution_count": null,
   "metadata": {
    "id": "yOBSulTPLUAo"
   },
   "outputs": [],
   "source": [
    "question = \"\"\"\n",
    "  How can I make this application more reliable? Consider best practices from https://www.r9y.dev/\n",
    "\"\"\"\n",
    "\n",
    "prompt = get_code_prompt(question)\n",
    "contents = [prompt]\n",
    "\n",
    "responses = model.generate_content(contents, stream=True)\n",
    "for response in responses:\n",
    "    IPython.display.Markdown(response.text)"
   ]
  },
  {
   "cell_type": "code",
   "execution_count": null,
   "metadata": {
    "id": "Hy_mCyFVLlXU"
   },
   "outputs": [],
   "source": [
    "question = \"\"\"\n",
    "  How can you secure the application?\n",
    "\"\"\"\n",
    "\n",
    "prompt = get_code_prompt(question)\n",
    "contents = [prompt]\n",
    "\n",
    "responses = model.generate_content(contents, stream=True)\n",
    "for response in responses:\n",
    "    IPython.display.Markdown(response.text)"
   ]
  },
  {
   "cell_type": "code",
   "execution_count": null,
   "metadata": {
    "id": "l7jQIUwsNRH4"
   },
   "outputs": [],
   "source": [
    "question = \"\"\"\n",
    "  Create a quiz about the concepts used in my codebase to help me solidify my understanding.\n",
    "\"\"\"\n",
    "\n",
    "prompt = get_code_prompt(question)\n",
    "contents = [prompt]\n",
    "\n",
    "responses = model.generate_content(contents, stream=True)\n",
    "for response in responses:\n",
    "    IPython.display.Markdown(response.text)"
   ]
  },
  {
   "cell_type": "code",
   "execution_count": null,
   "metadata": {
    "id": "FRwmRyDDFRMB"
   },
   "outputs": [],
   "source": [
    "question = \"\"\"\n",
    "  Please write an end-to-end quickstart tutorial that introduces AlloyDB,\n",
    "  shows how to configure it with the CartService,\n",
    "  and highlights key capabilities of AlloyDB in context of the Online Boutique application.\n",
    "\"\"\"\n",
    "\n",
    "prompt = get_code_prompt(question)\n",
    "contents = [prompt]\n",
    "\n",
    "responses = model.generate_content(contents, stream=True)\n",
    "for response in responses:\n",
    "    IPython.display.Markdown(response.text)"
   ]
  },
  {
   "cell_type": "code",
   "execution_count": null,
   "metadata": {
    "id": "jdeWO8crnlH_"
   },
   "outputs": [],
   "source": [
    "### Fetches commit IDs from a local Git repository on a specified branch.\n",
    "\n",
    "repo = git.Repo(repo_dir)\n",
    "branch_name = \"main\"\n",
    "commit_ids = [\n",
    "    commit.hexsha for commit in repo.iter_commits(branch_name)\n",
    "]  # A list of commit IDs (SHA-1 hashes) in reverse chronological order (newest first)\n",
    "\n",
    "if len(commit_ids) >= 2:\n",
    "    diff_text = repo.git.diff(commit_ids[0], commit_ids[1])\n",
    "\n",
    "    question = \"\"\"\n",
    "      Given the above git diff output, Summarize the important changes made.\n",
    "    \"\"\"\n",
    "\n",
    "    prompt = diff_text + question + code_text\n",
    "    contents = [prompt]\n",
    "\n",
    "    responses = model.generate_content(contents, stream=True)\n",
    "    for response in responses:\n",
    "        IPython.display.Markdown(response.text)"
   ]
  }
 ],
 "metadata": {
  "colab": {
   "provenance": []
  },
  "environment": {
   "kernel": "python3",
   "name": "tf2-gpu.2-12.m110",
   "type": "gcloud",
   "uri": "gcr.io/deeplearning-platform-release/tf2-gpu.2-12:m110"
  },
  "kernelspec": {
   "display_name": "Python 3 (ipykernel)",
   "language": "python",
   "name": "python3"
  },
  "language_info": {
   "codemirror_mode": {
    "name": "ipython",
    "version": 3
   },
   "file_extension": ".py",
   "mimetype": "text/x-python",
   "name": "python",
   "nbconvert_exporter": "python",
   "pygments_lexer": "ipython3",
   "version": "3.11.2"
  }
 },
 "nbformat": 4,
 "nbformat_minor": 4
}
